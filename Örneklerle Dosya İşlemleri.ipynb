{
 "cells": [
  {
   "cell_type": "markdown",
   "metadata": {},
   "source": [
    "![](python-logo.jpg)"
   ]
  },
  {
   "cell_type": "markdown",
   "metadata": {},
   "source": [
    "# PYTHON İLE DOSYA İŞLEMLERİ"
   ]
  },
  {
   "cell_type": "markdown",
   "metadata": {},
   "source": [
    "**Hazırlayan** : Özcan Gündeş"
   ]
  },
  {
   "cell_type": "markdown",
   "metadata": {},
   "source": [
    "Dosya işlemlerini;   \n",
    "+ Dosya yazma  \n",
    "+ Dosya okuma  \n",
    "+ Varolan dosyaya yeni içerik ekleme  \n",
    "+ Dosyayı silme olarak düşünebiliriz."
   ]
  },
  {
   "cell_type": "markdown",
   "metadata": {},
   "source": [
    "## Dosya Dizini"
   ]
  },
  {
   "cell_type": "markdown",
   "metadata": {},
   "source": [
    "Dosya işlemlerini yapmadan önce, bu işlemleri yapacağımız dizini belirlememiz gerekiyor. Aksi takdirde bu işlemleri yaparken _\"böyle bir dosya bulunamadı.\"_ gibi hatalar almamız çok olası. Bundan dolayı ilk adım olarak şu an hangi dizinde olduğumuzu Python'ın kendi kütüphanelerinden olan **\"os\"** kütüphanesi yardımıyla öğrenebiliriz."
   ]
  },
  {
   "cell_type": "code",
   "execution_count": 4,
   "metadata": {},
   "outputs": [
    {
     "name": "stdout",
     "output_type": "stream",
     "text": [
      "C:\\Users\\ozcan\\Desktop\n"
     ]
    }
   ],
   "source": [
    "import os\n",
    "print(os.getcwd())"
   ]
  },
  {
   "cell_type": "markdown",
   "metadata": {},
   "source": [
    "Şu an gördüğünüz gibi masaüstünde çalışıyorum, fakat bundan sonraki dosya işlemlerimi önceden yaratmış olduğum **\"Notebooks\"** klasöründe yapmak istiyorum. Eğer siz de mevcut dizininizi değiştirmek isterseniz **.chdir()** fonksiyonu ile aşağıdaki gibi yapabilirsiniz. Eğer mevcut dizinde çalışmak istiyorsanız bu kodu çalıştırmayabilirsiniz."
   ]
  },
  {
   "cell_type": "code",
   "execution_count": 60,
   "metadata": {},
   "outputs": [
    {
     "name": "stdout",
     "output_type": "stream",
     "text": [
      "C:\\Users\\ozcan\\Desktop\\Notebooks\n"
     ]
    }
   ],
   "source": [
    "os.chdir(r\"C:\\Users\\ozcan\\Desktop\\Notebooks\")\n",
    "print(os.getcwd())"
   ]
  },
  {
   "cell_type": "markdown",
   "metadata": {},
   "source": [
    "## Dosya Modları"
   ]
  },
  {
   "cell_type": "markdown",
   "metadata": {},
   "source": [
    "Dosyalarımızı, işlem yapmak için açarken bu modları kullanacağız. "
   ]
  },
  {
   "cell_type": "markdown",
   "metadata": {},
   "source": [
    "| **Mod**       | **Tanım**     |\n",
    "| :-------------|:-------------| \n",
    "| **r**      | Dosyayı okuma amacıyla açmak için kullanılır.              |\n",
    "| **w**    | Dosyayı yazma amacıyla açmak için kullanılır. Açılacak dosya dizinde yoksa yeni dosya yaratır, varsa içindekileri silip, ekleyeceğimiz içerikleri yazar. |\n",
    "| **a** | Var olan dosyaya ekleme yapmak amacıyla açmak için kullanılır. Açılacak dosya dizinde yoksa yeni dosya yaratır       |\n",
    "| **x** | Yeni dosya yaratır, eğer dizinde aynı isimde dosya varsa hata verir.      |\n",
    "| **b** | Dosyayı 0,1 modunda (binary) açmak için kullanılır.      |\n",
    "| **+** | r,w ve a modlarının yanına eklenerek kullanılır. Yazma, okuma ve ekleme amacıyla dosya açmak için kullanılır.  |\n"
   ]
  },
  {
   "cell_type": "markdown",
   "metadata": {},
   "source": [
    "## Dosya Açma"
   ]
  },
  {
   "cell_type": "markdown",
   "metadata": {},
   "source": [
    "Dosyaları açmamızı sağlayan fonksiyon, Python'da tanımlı **open()** fonksiyonudur. Bu fonksiyon 2 tane önemli girdiye ihtiyaç duyar. Birincisi dosyanızın adı, ikincisi hangi modda açmak istediğinizdir. \n",
    "```python\n",
    "\n",
    "open(\"dosyaAdi.txt\",mod)\n",
    "```\n",
    "Burada şunu da eklemekte fayda var, bu fonksiyonda varsayılan kodlama (encoding) Türkçe karakterleri okuyamayabiliyor, dolayısıyla metninizde \"ı, ö, ü, ç, ş, ğ, İ\" gibi Türkçe karakterler varsa \"utf-8\" ile kodlamak olası hataları önleyecektir.\n",
    "\n",
    "```python\n",
    "\n",
    "open(\"dosyaAdi.txt\",mod, encoding=\"utf-9\")\n",
    "```\n"
   ]
  },
  {
   "cell_type": "markdown",
   "metadata": {},
   "source": [
    "# Dosya Yazma"
   ]
  },
  {
   "cell_type": "markdown",
   "metadata": {},
   "source": [
    "Mod kısmından hatırlarsak dosya yazmak için **\"w\"** modunu kullanıyorduk. Şimdi dizinimizde _ilkDeneme_ isimli .txt dosyamızı oluşturalım. Sonrasında, **write()** fonksiyonu ve **for** döngüsü yardımıyla 10 satırlık içeriğimizi bu dosyaya ekleyelim. Eğer dizinde aynı isimde başka bir dosya varsa içindekileri silip yeni içeriklerimizi o dosyaya ekleyeceğini unutmayalım!"
   ]
  },
  {
   "cell_type": "code",
   "execution_count": 9,
   "metadata": {},
   "outputs": [
    {
     "ename": "UnicodeEncodeError",
     "evalue": "'charmap' codec can't encode character '\\u0131' in position 16: character maps to <undefined>",
     "output_type": "error",
     "traceback": [
      "\u001b[1;31m---------------------------------------------------------------------------\u001b[0m",
      "\u001b[1;31mUnicodeEncodeError\u001b[0m                        Traceback (most recent call last)",
      "\u001b[1;32m<ipython-input-9-9a56a82a3774>\u001b[0m in \u001b[0;36m<module>\u001b[1;34m\u001b[0m\n\u001b[0;32m      1\u001b[0m \u001b[0mdosya\u001b[0m\u001b[1;33m=\u001b[0m\u001b[0mopen\u001b[0m\u001b[1;33m(\u001b[0m\u001b[1;34m\"ilkDeneme.txt\"\u001b[0m\u001b[1;33m,\u001b[0m\u001b[1;34m\"w\"\u001b[0m\u001b[1;33m)\u001b[0m\u001b[1;33m\u001b[0m\u001b[1;33m\u001b[0m\u001b[0m\n\u001b[0;32m      2\u001b[0m \u001b[1;32mfor\u001b[0m \u001b[0mi\u001b[0m \u001b[1;32min\u001b[0m \u001b[0mrange\u001b[0m\u001b[1;33m(\u001b[0m\u001b[1;36m10\u001b[0m\u001b[1;33m)\u001b[0m\u001b[1;33m:\u001b[0m\u001b[1;33m\u001b[0m\u001b[1;33m\u001b[0m\u001b[0m\n\u001b[1;32m----> 3\u001b[1;33m     \u001b[0mdosya\u001b[0m\u001b[1;33m.\u001b[0m\u001b[0mwrite\u001b[0m\u001b[1;33m(\u001b[0m\u001b[1;34m\"Bu, bizim %d. satırımız\\n\"\u001b[0m\u001b[1;33m%\u001b[0m\u001b[1;33m(\u001b[0m\u001b[0mi\u001b[0m\u001b[1;33m+\u001b[0m\u001b[1;36m1\u001b[0m\u001b[1;33m)\u001b[0m\u001b[1;33m)\u001b[0m\u001b[1;33m\u001b[0m\u001b[1;33m\u001b[0m\u001b[0m\n\u001b[0m\u001b[0;32m      4\u001b[0m \u001b[0mdosya\u001b[0m\u001b[1;33m.\u001b[0m\u001b[0mclose\u001b[0m\u001b[1;33m(\u001b[0m\u001b[1;33m)\u001b[0m\u001b[1;33m\u001b[0m\u001b[1;33m\u001b[0m\u001b[0m\n",
      "\u001b[1;32m~\\Anaconda3\\lib\\encodings\\cp1252.py\u001b[0m in \u001b[0;36mencode\u001b[1;34m(self, input, final)\u001b[0m\n\u001b[0;32m     17\u001b[0m \u001b[1;32mclass\u001b[0m \u001b[0mIncrementalEncoder\u001b[0m\u001b[1;33m(\u001b[0m\u001b[0mcodecs\u001b[0m\u001b[1;33m.\u001b[0m\u001b[0mIncrementalEncoder\u001b[0m\u001b[1;33m)\u001b[0m\u001b[1;33m:\u001b[0m\u001b[1;33m\u001b[0m\u001b[1;33m\u001b[0m\u001b[0m\n\u001b[0;32m     18\u001b[0m     \u001b[1;32mdef\u001b[0m \u001b[0mencode\u001b[0m\u001b[1;33m(\u001b[0m\u001b[0mself\u001b[0m\u001b[1;33m,\u001b[0m \u001b[0minput\u001b[0m\u001b[1;33m,\u001b[0m \u001b[0mfinal\u001b[0m\u001b[1;33m=\u001b[0m\u001b[1;32mFalse\u001b[0m\u001b[1;33m)\u001b[0m\u001b[1;33m:\u001b[0m\u001b[1;33m\u001b[0m\u001b[1;33m\u001b[0m\u001b[0m\n\u001b[1;32m---> 19\u001b[1;33m         \u001b[1;32mreturn\u001b[0m \u001b[0mcodecs\u001b[0m\u001b[1;33m.\u001b[0m\u001b[0mcharmap_encode\u001b[0m\u001b[1;33m(\u001b[0m\u001b[0minput\u001b[0m\u001b[1;33m,\u001b[0m\u001b[0mself\u001b[0m\u001b[1;33m.\u001b[0m\u001b[0merrors\u001b[0m\u001b[1;33m,\u001b[0m\u001b[0mencoding_table\u001b[0m\u001b[1;33m)\u001b[0m\u001b[1;33m[\u001b[0m\u001b[1;36m0\u001b[0m\u001b[1;33m]\u001b[0m\u001b[1;33m\u001b[0m\u001b[1;33m\u001b[0m\u001b[0m\n\u001b[0m\u001b[0;32m     20\u001b[0m \u001b[1;33m\u001b[0m\u001b[0m\n\u001b[0;32m     21\u001b[0m \u001b[1;32mclass\u001b[0m \u001b[0mIncrementalDecoder\u001b[0m\u001b[1;33m(\u001b[0m\u001b[0mcodecs\u001b[0m\u001b[1;33m.\u001b[0m\u001b[0mIncrementalDecoder\u001b[0m\u001b[1;33m)\u001b[0m\u001b[1;33m:\u001b[0m\u001b[1;33m\u001b[0m\u001b[1;33m\u001b[0m\u001b[0m\n",
      "\u001b[1;31mUnicodeEncodeError\u001b[0m: 'charmap' codec can't encode character '\\u0131' in position 16: character maps to <undefined>"
     ]
    }
   ],
   "source": [
    "dosya=open(\"ilkDeneme.txt\",\"w\")\n",
    "for i in range(10):\n",
    "    dosya.write(\"Bu, bizim %d. satırımız\\n\"%(i+1))\n",
    "dosya.close()"
   ]
  },
  {
   "cell_type": "markdown",
   "metadata": {},
   "source": [
    "Gördüğünüz gibi, içeriğimiz Türkçe karakterler içermesi sebebiyle (\"satırımız\" kelimesindeki ı harfleri dolayısıyla) dosyayı açamadık. Encoding girdisi yardımıyla bunu çözebiliriz."
   ]
  },
  {
   "cell_type": "code",
   "execution_count": 12,
   "metadata": {},
   "outputs": [],
   "source": [
    "dosya=open(\"ilkDeneme.txt\",\"w\",encoding=\"utf-8\")\n",
    "for i in range(10):\n",
    "    dosya.write(\"Bu, bizim %d. satırımız\\n\"%(i+1))\n",
    "dosya.close()"
   ]
  },
  {
   "cell_type": "markdown",
   "metadata": {},
   "source": [
    "![](gorsel1.png)"
   ]
  },
  {
   "cell_type": "markdown",
   "metadata": {},
   "source": [
    "Gördüğünüz gibi ilk deneme isimli bir dosya açtık ve içine for döngüsü yardımı ile 10 satır ekledik. \"utf-8\" ile de Türkçe karakter problemimizi hallettik. Dikkat ettiyseniz, döngüdeki her adımda yeni bir satıra geçtik, bunu **\"\\n\"** yardımıyla yaptık.  \n",
    "\n",
    "Son olarak da **\"close()\"**  fonksiyonu ile dosyamızı kapattık. Açtığımız her dosyayı bu fonksiyon ile kapatmayı unutmamamız gerekiyor çünkü dosya ile işimiz bitmesine rağmen kapatmadığımız sürece işlem gücü harcamaya devam eder.  \n",
    "\n",
    "Her defasında dosya kapama işlemini yapmaktansa, **with** komutunu kullanarak dosyaları açabiliriz. Bu fonksiyonla açtığımız dosyalar, işlemler bittikten sonra otomatik olarak kapatılıyor. Gelin yukarıdaki yaptığımız işlemin aynısını bu şekilde yapalım."
   ]
  },
  {
   "cell_type": "code",
   "execution_count": 15,
   "metadata": {},
   "outputs": [],
   "source": [
    "with open(\"ilkDeneme.txt\",\"w\",encoding=\"utf-8\") as dosya:\n",
    "    for i in range(10):\n",
    "        dosya.write(\"Bu, bizim %d. satırımız\\n\"%(i+1))"
   ]
  },
  {
   "cell_type": "markdown",
   "metadata": {},
   "source": [
    "Dosyaya yazmak için kullandığımız fonksiyon gördüğünüz üzere **write()** fonksiyonuydu. Fakat bu fonksiyon sadece string dediğimiz karakterler (\" \" arasına yazarak tanımladığımız içerikler) ile çalışıyor. Bundan ötürü eğer aşağıdaki örnekteki gibi bir liste yazdırmak istiyorsanız (listeleri [] kullanarak gösteriyoruz), bu köşeli parantezleri karakter olarak algılamıyor ve hata veriyor. Bunu yapabilmek için ihtiyacımız olan fonkiyon **writelines()** fonksiyonudur. Gelin bunlara örneklerle bakalım."
   ]
  },
  {
   "cell_type": "code",
   "execution_count": 19,
   "metadata": {},
   "outputs": [
    {
     "ename": "TypeError",
     "evalue": "write() argument must be str, not list",
     "output_type": "error",
     "traceback": [
      "\u001b[1;31m---------------------------------------------------------------------------\u001b[0m",
      "\u001b[1;31mTypeError\u001b[0m                                 Traceback (most recent call last)",
      "\u001b[1;32m<ipython-input-19-ac837632af0a>\u001b[0m in \u001b[0;36m<module>\u001b[1;34m\u001b[0m\n\u001b[0;32m      1\u001b[0m \u001b[1;32mwith\u001b[0m \u001b[0mopen\u001b[0m\u001b[1;33m(\u001b[0m\u001b[1;34m\"deneme2.txt\"\u001b[0m\u001b[1;33m,\u001b[0m\u001b[1;34m\"w\"\u001b[0m\u001b[1;33m,\u001b[0m\u001b[0mencoding\u001b[0m\u001b[1;33m=\u001b[0m\u001b[1;34m\"utf-8\"\u001b[0m\u001b[1;33m)\u001b[0m \u001b[1;32mas\u001b[0m \u001b[0mdosya\u001b[0m\u001b[1;33m:\u001b[0m\u001b[1;33m\u001b[0m\u001b[1;33m\u001b[0m\u001b[0m\n\u001b[1;32m----> 2\u001b[1;33m    \u001b[0mdosya\u001b[0m\u001b[1;33m.\u001b[0m\u001b[0mwrite\u001b[0m\u001b[1;33m(\u001b[0m\u001b[1;33m[\u001b[0m\u001b[1;34m\"En sevdiğim meyveler:\\n\"\u001b[0m\u001b[1;33m,\u001b[0m\u001b[1;34m\"Karpuz\\n\"\u001b[0m\u001b[1;33m,\u001b[0m\u001b[1;34m\"Mandalina\\n\"\u001b[0m\u001b[1;33m,\u001b[0m\u001b[1;34m\"Çilek\\n\"\u001b[0m\u001b[1;33m,\u001b[0m\u001b[1;34m\"Muz\"\u001b[0m\u001b[1;33m]\u001b[0m\u001b[1;33m)\u001b[0m\u001b[1;33m\u001b[0m\u001b[1;33m\u001b[0m\u001b[0m\n\u001b[0m",
      "\u001b[1;31mTypeError\u001b[0m: write() argument must be str, not list"
     ]
    }
   ],
   "source": [
    "with open(\"deneme2.txt\",\"w\",encoding=\"utf-8\") as dosya:\n",
    "   dosya.write([\"En sevdiğim meyveler:\\n\",\"Karpuz\\n\",\"Mandalina\\n\",\"Çilek\\n\",\"Muz\"])  "
   ]
  },
  {
   "cell_type": "code",
   "execution_count": 20,
   "metadata": {},
   "outputs": [],
   "source": [
    "with open(\"deneme2.txt\",\"w\",encoding=\"utf-8\") as dosya:\n",
    "   dosya.writelines([\"En sevdiğim meyveler:\\n\",\"Karpuz\\n\",\"Mandalina\\n\",\"Çilek\\n\",\"Muz\"])  "
   ]
  },
  {
   "cell_type": "markdown",
   "metadata": {},
   "source": [
    "![](gorsel2.png)"
   ]
  },
  {
   "cell_type": "markdown",
   "metadata": {},
   "source": [
    "# Dosyaya Ekleme Yapma"
   ]
  },
  {
   "cell_type": "markdown",
   "metadata": {},
   "source": [
    "Bu dosya işleminde var olan bir dosyaya ekleme yapacağız, bunun için gereken mod **a**. Eğer dizinde dosya yoksa, **a+** modu sayesinde yeni dosya yaratabiliriz. Fakat bu örnekte önceki yarattığımız dosyaya ekleme yapacağımız için **a** modunu kullanabiliriz."
   ]
  },
  {
   "cell_type": "code",
   "execution_count": 21,
   "metadata": {},
   "outputs": [],
   "source": [
    "with open(\"ilkDeneme.txt\",\"a\",encoding=\"utf-8\") as dosya:\n",
    "    for i in range(3):\n",
    "        dosya.write(\"Bu, bizim sonradan eklediğimiz %d. satırımız\\n\"%(i+1))"
   ]
  },
  {
   "cell_type": "markdown",
   "metadata": {},
   "source": [
    "![](gorsel3.png)"
   ]
  },
  {
   "cell_type": "markdown",
   "metadata": {},
   "source": [
    "# Dosya Okuma"
   ]
  },
  {
   "cell_type": "markdown",
   "metadata": {},
   "source": [
    "Dosya yazmayı öğrendiğimize göre bu adımda dosyaları okumaya başlayabiliriz. Öncelikle \"w\" modunda dosya açarken, dizinde aynı isimde dosya yoksa yeni dosya yaratıyordu. Fakat \"r\" modunda dosya açarken dizinde o dosyanın olması gerektiğini unutmamalıyız, aksi takdirde böyle bir dosya bulunamadı hatası alırız. O yüzden bu hatayı almamak için ```os.path.isfile(\"dosyaAdi.txt\") ``` sayesinde mevcut dizinde bu isimde bir dosyanın varlığını öğrenebiliriz. Bu fonksiyonun çıktsğı **True** veya **False**, hata almamak için bunun aşağıdaki gibi **True** olarak dönmesi gerekiyor. "
   ]
  },
  {
   "cell_type": "code",
   "execution_count": 23,
   "metadata": {},
   "outputs": [
    {
     "data": {
      "text/plain": [
       "True"
      ]
     },
     "execution_count": 23,
     "metadata": {},
     "output_type": "execute_result"
    }
   ],
   "source": [
    "os.path.isfile(\"ilkDeneme.txt\")"
   ]
  },
  {
   "cell_type": "markdown",
   "metadata": {},
   "source": [
    "Dosyamızın dizinde yer aldığını ve güvenle ilerleyebileceğimizi gördük. Şimdi dosyayı okuyabiliriz, bunun için ihtiyacımız olan fonksiyon **read()** fonsiyonudur. Aşağıdaki örnekte, dosyada yer alan içeriğimizi **content** isimli değişkenimize atayıp, sonra değerini yazdırıyoruz."
   ]
  },
  {
   "cell_type": "code",
   "execution_count": 34,
   "metadata": {},
   "outputs": [
    {
     "name": "stdout",
     "output_type": "stream",
     "text": [
      "Bu, bizim 1. satırımız\n",
      "Bu, bizim 2. satırımız\n",
      "Bu, bizim 3. satırımız\n",
      "Bu, bizim 4. satırımız\n",
      "Bu, bizim 5. satırımız\n",
      "Bu, bizim 6. satırımız\n",
      "Bu, bizim 7. satırımız\n",
      "Bu, bizim 8. satırımız\n",
      "Bu, bizim 9. satırımız\n",
      "Bu, bizim 10. satırımız\n",
      "Bu, bizim sonradan eklediğimiz 1. satırımız\n",
      "Bu, bizim sonradan eklediğimiz 2. satırımız\n",
      "Bu, bizim sonradan eklediğimiz 3. satırımız\n",
      "\n"
     ]
    }
   ],
   "source": [
    "with open(\"ilkDeneme.txt\",\"r\",encoding=\"utf-8\") as dosya:\n",
    "    content=dosya.read()\n",
    "print(content)"
   ]
  },
  {
   "cell_type": "markdown",
   "metadata": {},
   "source": [
    "**read()** fonksiyonu da sadece karakterlerle çalışıyor. Dolayısıyla, en sevdiğimiz meyveleri içeren listemize ulaşmak istersek, hatta sadece en sevdiğimiz 2. meyveyi getirmek istersek, ihtiyacımız olan fonksiyon, dosyayı satır satır okuyarak bir liste yaratan **readlines()** fonksiyonudur.  "
   ]
  },
  {
   "cell_type": "code",
   "execution_count": 42,
   "metadata": {},
   "outputs": [
    {
     "name": "stdout",
     "output_type": "stream",
     "text": [
      "Tam listemiz:\n",
      "['En sevdiğim meyveler:\\n', 'Karpuz\\n', 'Mandalina\\n', 'Çilek\\n', 'Muz']\n",
      "2. en sevdiğimiz meyve:\n",
      "Mandalina\n",
      "\n"
     ]
    }
   ],
   "source": [
    "with open(\"deneme2.txt\",\"r\",encoding=\"utf-8\") as dosya:\n",
    "    content_list=dosya.readlines()\n",
    "\n",
    "print(\"Tam listemiz:\")\n",
    "print(content_list)\n",
    "print(\"2. en sevdiğimiz meyve:\\n\" + content_list[2])"
   ]
  },
  {
   "cell_type": "markdown",
   "metadata": {},
   "source": [
    "#### Opsiyonel 2 Okuma Fonksiyonu"
   ]
  },
  {
   "cell_type": "markdown",
   "metadata": {},
   "source": [
    "Peki içeriğimizin binlerce satırdan olduğunu düşünürsek ve sadece 2.satırda yer alan bilgiye erişmek istiyorsak ne yapmalıyız? Yukarıdaki gibi readlines() yardımıyla tüm satırları listeye çevirip ilgili endeks değerini çekmek ilk alternatifken, ikinci olarak **readline()** fonksiyonunu kullanabiliriz. Bu fonksiyon, ilk satırdan başlayarak tek bir satır okur. Aşağıdaki gibi 2. satıra erişmek istediğinizde 2 defa **readline()** yaparak ilgili satıra erişebilirsiniz. Yine de 20. satıra erişim için 20 satır bunu yazmaktansa, **readlines()** ile okuyup 19. endeksi çağırmak daha kolay ve okunabilir olacaktır. Seçim tamamen sizin :)"
   ]
  },
  {
   "cell_type": "code",
   "execution_count": 45,
   "metadata": {},
   "outputs": [
    {
     "name": "stdout",
     "output_type": "stream",
     "text": [
      "Karpuz\n",
      "\n"
     ]
    }
   ],
   "source": [
    "with open(\"deneme2.txt\",\"r\",encoding=\"utf-8\") as dosya:\n",
    "    content1=dosya.readline()\n",
    "    content2=dosya.readline()\n",
    "print(content2)"
   ]
  },
  {
   "cell_type": "markdown",
   "metadata": {},
   "source": [
    "Diğer fonksiyonumuz ise satır satır yerine direkt önemli bilginin olduğunu düşündüğünüz karakterden itibaren okumanızı sağlayacak olan **seek()** fonksiyonu. Aşağıdaki örnekte görüldüğü üzere imleci 15.karaktere koyarak geri kalan içeriği okutabiliriz."
   ]
  },
  {
   "cell_type": "code",
   "execution_count": 46,
   "metadata": {},
   "outputs": [
    {
     "name": "stdout",
     "output_type": "stream",
     "text": [
      "yveler:\n",
      "Karpuz\n",
      "Mandalina\n",
      "Çilek\n",
      "Muz\n"
     ]
    }
   ],
   "source": [
    "with open(\"deneme2.txt\",\"r\",encoding=\"utf-8\") as dosya:\n",
    "    dosya.seek(15)\n",
    "    new_content=dosya.read()\n",
    "print(new_content)"
   ]
  },
  {
   "cell_type": "markdown",
   "metadata": {},
   "source": [
    "# Dosya Silme"
   ]
  },
  {
   "cell_type": "markdown",
   "metadata": {},
   "source": [
    "Gelelim son dosya işlemi olan dosyayı silme işlemine. Bu işlem için kullanacağımız fonksiyon ``` os.remove(\"dosyaAdi.txt\")```. Sadece bir satır kod ile ilgili dosyanızı silebilirsiniz.\n"
   ]
  },
  {
   "cell_type": "code",
   "execution_count": 49,
   "metadata": {},
   "outputs": [],
   "source": [
    "os.remove(\"deneme2.txt\")"
   ]
  },
  {
   "cell_type": "markdown",
   "metadata": {},
   "source": [
    "### Dosya uzantılarını değiştirerek, Excel (.xls) ve Word (.doc) için de bu işlemleri yapabilirsiniz."
   ]
  },
  {
   "cell_type": "code",
   "execution_count": 58,
   "metadata": {},
   "outputs": [],
   "source": [
    "dosya=open(\"ilkDeneme.doc\",\"w\",encoding=\"utf-8\")\n",
    "for i in range(10):\n",
    "    dosya.write(\"Bu, bizim %d. satırımız\\n\"%(i+1))\n",
    "dosya.close()"
   ]
  },
  {
   "cell_type": "markdown",
   "metadata": {},
   "source": [
    "![](gorsel4.png)"
   ]
  },
  {
   "cell_type": "code",
   "execution_count": 59,
   "metadata": {},
   "outputs": [],
   "source": [
    "os.remove(\"ilkDeneme.doc\")"
   ]
  },
  {
   "cell_type": "markdown",
   "metadata": {},
   "source": [
    "**BONUS:**  \n",
    "Bu kısımda aynı dosya işlemleri için txt dosyaları dışındaki uzantılara sahip dosyaları da kullanabileceğinizi göstermek istedim. Fakat özellikle Excel dosyalarında veri işleme, veri analizi ve veri görselleştirme gibi daha detaylı fonksiyonları barındıran pandas kütüphanesinde çalışmak daha yararlı olacaktır. [Pandas ile yapabileceklerinizi gösteren linke buradan ulaşabilirsiniz.](https://pandas.pydata.org/Pandas_Cheat_Sheet.pdf)"
   ]
  },
  {
   "cell_type": "markdown",
   "metadata": {},
   "source": [
    "# Örnek Uygulama"
   ]
  },
  {
   "cell_type": "markdown",
   "metadata": {},
   "source": [
    "Dosya işlemleri hemen hemen her uygulamanın içerisinde yer alır. I/O (input -> process -> output) adımlarında bize oldukça yarar sağlamaktadır. Dersi bitirmeden eğlenceli bir örnek uygulama yapalım :)"
   ]
  },
  {
   "cell_type": "markdown",
   "metadata": {},
   "source": [
    "## Canan Karatay Grip Reçetesi :)"
   ]
  },
  {
   "cell_type": "markdown",
   "metadata": {},
   "source": [
    "Bu oldukça basit uygulama ile Canan Karatay hocamızın verdiği röportajlarda en çok kullandığı kelimeleri bulacağız ve bu kelime sayılarını metin dosyası olarak kaydedeceğiz.\n",
    "\n",
    "Öncelikle internetten bulduğum 3 tane Canan Karatay röportajını metin dosyası olarak oluşturdum. (bu dosyayı isteyenlere iletebilirim ama siz de isterseniz kopyala yapıştır ile kendiniz deneyebilirsiniz.)  \n",
    "\n",
    "Yukarıda öğrendiğimiz şekilde dosyayı okuyalım:"
   ]
  },
  {
   "cell_type": "code",
   "execution_count": 62,
   "metadata": {},
   "outputs": [
    {
     "name": "stdout",
     "output_type": "stream",
     "text": [
      "Prof. Dr. Canan Karatay’in koronavirüsten nasil korunulmasi gerektigini anlatirken kullandigi, “Turp yerseniz turp gibi, fistik yerseniz fistik gibi olursunuz” sözleri sosyal medyada sebze polemigi yaratti. Karatay’in sözlerine Vedat Milor’un Twitter’da verdigi ‘hiyarli’ yanit esprili bir atismaya dönüstü. Yemek yazari Vedat Milor, Prof. Dr. Canan Karatay’in “Turp yerseniz turp gibi, fistik yerseniz fistik gibi olursunuz” sözlerine karsilik olarak Twitter’dan, “Anladigim kadariyla hiyar yemeyi birakiyoruz” yazdi. Kisa sürede binlerce begeni ve paylasim alan tweet’in altinda kullanicilar “Bamya yerken ne olacagiz?”, “Bu tweet’inizi armut yerken okudum” gibi esprili yanitlar verdi. Yapilan yorumlarin bazilarini müstehcen bulan Milor, “Hiyar benim bildigim kaba kisilere denir. Bazilari pek masum olmayan seyler yazmis. Zaman içinde anlami mi degisti?” diye sordu. Eren adinda bir kullanici, “Bence siz isterseniz kabak yemeyin çünkü bu tür espritüel tavriniz artik kabak tadi verdi...” tweet’i atinca Milor, gülümseten bir itirafta bulundu. “O tiviti atmadan önce beni tereddütte birakan tek bir sey vardi. Acaba biri kabakla misilleme yapar mi diye çok düsündüm. O riski hafife aldim. Çok uzak bir ihtimal gibi gördüm. Ama maalesef korktugum basima geldi.” yazan Milor, bu kez takipçilerinden destek yorumlari aldi. Milor’un bu yorumunun altina, “Biz sizi esprilerinizle seviyoruz siz bosverin onlari”, “Karsilikli güzel birer mizahi salvo” gibi cevaplar geldi. Karatay, koronavirüs ile ilgili “Koronavirüs dedigimiz diger virüslerden farki yoktur, grip enfeksiyonudur. Bagisiklik sisteminizi güçlendireceksiniz” demis, ardindan tavsiye ettigi beslenme modelini su sözlerle anlatmisti: “Karatay beslenmesi nedir? Özeti pakete girmis hiçbir sey yemeyeceksiniz, seker yemeyeceksiniz. Sekerli gazli içecek, misir surubu sekerinden uzak duracaksiniz. Ekmekten ve tosttan uzak duracaksiniz. Nasil saglikli olacaksiniz? Her gün köy yumurtasi yiyeceksiniz, köy tereyagi yiyeceksiniz ekmeksiz olmamak sartiyla. Turp yerseniz turp gibi olursunuz fistik yerseniz fistik gibi olursunuz.” Iç Hastaliklari ve Kardiyoloji Uzmani Prof. Dr. Canan Karatay, yaz sebzelerinin kisin tüketilmemesi gerektigini söyleyerek bagisiklik sistemini güçlendirmek için lahana, brokoli, karnabahar, kereviz, turp, ev tursusu, sogan ve karnabahar yenmesini önerdi. Prof. Dr. Karatay, “Turp yerseniz turp gibi olursunuz” dedi. Kis sebze ve meyveleri havalarin sogumasiyla pazar tezgahlarina indi. Sebze ve meyvelerin besleyici özelliklerinden faydalanmak için mevsiminde tüketmek gerekiyor. Iç Hastaliklari ve Kardiyoloji Uzmani Prof. Dr. Canan Karatay, hastaliklardan korunmak için kis reçetesi verdi. Evde yapilan tursu ve tursu suyunun hastaliklardan korudugunu dile getiren Prof. Dr. Karatay, “Yaz sebzeleri kisin tüketilmez. Lahana, brokoli, karnabahar, kereviz, turp gibi sebzeleri rahatlikla bol bol tüketmeliyiz. Lahanadan çorba, etli yemek ve sarma yapilabilir. Evde yapilan tursu ve tursu suyu ise hastaliklarimizi önlemek için çok önemlidir” diye konustu. Mevsiminde tüketilmeyen gidalarin hem kalitesiz hem de pahali oldugunu belirten Prof. Dr. Karatay, “Mevsimi olmadigi için seralarda yetistirilen yaz sebzelerinin, kisin sofraya geldiginde hiçbir besin degeri, kalitesi olmuyor. Ayrica dünya kadar da pahali. Simdi ocak ayinda patlican ve domatesin çok pahali oldugunu göreceksiniz. Çok pahali diye saçinizi basinizi yolmayin, çözümü basit gidip almayin. Patlicanin, yesil biberin ve domatesin ocak ayinda sofrada yeri yok. Simdiden ya kurutacaksiniz ya ilaçsiz domatesleri alip, benim yaptigim gibi pastörize edeceksiniz ya da tursu yapip onu kullanacaksiniz. Bu yöntemler gelenekseldir, asirlardir devam etmistir” ifadelerini kullandi. Tarim ilaci kullanilan meyvelerin tehlikeli oldugunu söyleyen Prof. Dr. Canan Karatay, “Tüketilen meyveler eger ilaçliysa yazin, kis fark etmez tehlikelidir. Eger meyvelerin üstünde pestisit, mantar ilaçlari varsa yemeyin. Onun için ‘dogal meyve, kurtlu elma tüketin’ diyorum, bunlar bol bol yenebilir. Tabi ki en saglikli meyve ilaçsiz olan zeytindir. Kisin en çok tüketeceginiz meyve Anamur muzudur, turptur ve zeytindir” dedi. Bagisiklik sisteminin çökmesiyle grip olundugunu belirten Prof. Dr. Karatay, “Grip, bagisiklik sisteminin çökmesi demektir. Bagisiklik sistemini güçlendirmek için turp yiyeceksiniz, turp gibi olacaksiniz. Sogan, karnabahar yiyeceksiniz. Kelle paça ve iskembe çorbasi tüketeceksiniz. Bol bol köy tereyagi, soguk sikim zeytinyagi sizi bütün hastaliklardan korur. Ev sirkesi bagirsak floranizi düzenler ve bagisiklik sisteminizi güçlendirir. Ev sirkesinin yaninda kristal kaya tuzu da bagisiklik sisteminizi güçlendirir. Ev tursusu bagirsaklardaki bagisiklik sistemini güçlendiren bakterileri çogaltir onun için çok sagliklidir” ifadelerini kullandi. \"Zeytinyagi altindan çok daha degerlidir. Yapilan arastirmalar göstermistir ki zeytinyagi kanser hücrelerini öldürüyor.\" dedi. Hatay Valiligi himayesinde, Altinözü Kaymakamligi ve Belediyesinin ev sahipliginde 3. Altinözü Zeytin ve Zeytinyagi Festivali'nde konusan Prof. Dr. Karatay, zeytinyaginin önemine degindi. Zeytin ve yaginin stratejik bir bitki oldugunu dile getiren Karatay, \"Saglikli meyvedir, altin degerindedir. Zeytinyagi da altin suyudur çünkü altin için insanlar birbirini öldürüyor. Zeytin ve zeytin yagi ömrü uzatiyor. Zeytinyagi altindan çok daha degerlidir. Zeytin ve yagi kanser, mide ve bagirsak hastaliklarinin yani sira birçok hastaligin da ilacidir. Soguk sikim zeytinyagi bol bol tüketilirse, kilo almazsiniz. Zeytinyagi karaciger yagini giderir. Yapilan arastirmalar göstermistir ki, zeytinyagi kanser hücrelerini öldürüyor. Zeytinyagi eklem agrilarini gideriyor, bas agrilarini gideriyor, cildi yumusatip kadife gibi yapiyor.\" ifadelerini kullandi. Hatay Valisi Rahmi Dogan ile Tibbi ve Aromatik Bitkiler Meclis Arastirma Komisyonu Baskani Ibrahim Aydin'in da konusma yaptigi etkinlikte, zeytin hasadi gerçeklestirildi. \n"
     ]
    }
   ],
   "source": [
    "with open(\"canan_karatay.txt\",\"r\") as dosya:\n",
    "    content=dosya.read()\n",
    "print(content)"
   ]
  },
  {
   "cell_type": "markdown",
   "metadata": {},
   "source": [
    "İçeriğimizi içeriye aldığımıza göre kelime sıklıklarını hesaplayabiliriz. Aşağıdaki kodlar kafanızı karıştırabilir, bunlar benim Doğal Dil İşleme projelerinde kullandığım kütüphaneler ama oldukça basit bir şekilde anlatacağım. \n",
    "\n",
    "İlk olarak **lower()** fonksiyonu ile tüm metni küçük harflere çeviriyoruz çünkü elma ve Elma gibi kelimelerin aynı kelime olarak saydırabilelim. Ondan sonra **RegexpTokenizer** ile yukarıdaki metnimizi noktalama işaretlerinden temizliyoruz ve metindeki tüm kelimeleri içeren bir liste yaratıyoruz. Noktalama işaretlerini çıkarmadığımız takdirde noktalama işaretiyle birlikte geçen kelimeleri yakalayamaz. Sonraki adımda **Counter()** sayesinde kelime listemizde yer alan kelimeleri saydırıp frekanslarıyla beraber bir sözlük (dictionary) yapısı oluşturuyoruz ve son olarak 5'den daha fazla geçen kelimeleri dict comprehension ile hesaplatıp yazdırıyoruz."
   ]
  },
  {
   "cell_type": "code",
   "execution_count": 75,
   "metadata": {},
   "outputs": [
    {
     "data": {
      "text/plain": [
       "{'prof': 10,\n",
       " 'dr': 10,\n",
       " 'karatay': 14,\n",
       " 'turp': 12,\n",
       " 'yerseniz': 7,\n",
       " 'gibi': 14,\n",
       " 'fistik': 6,\n",
       " 'milor': 6,\n",
       " 'da': 7,\n",
       " 'bir': 6,\n",
       " 've': 22,\n",
       " 'çok': 9,\n",
       " 'bagisiklik': 8,\n",
       " 'için': 9,\n",
       " 'bol': 8,\n",
       " 'zeytinyagi': 10,\n",
       " 'zeytin': 6}"
      ]
     },
     "execution_count": 75,
     "metadata": {},
     "output_type": "execute_result"
    }
   ],
   "source": [
    "from nltk.tokenize import RegexpTokenizer\n",
    "from collections import Counter\n",
    "\n",
    "content=content.lower()\n",
    "tokenizer = RegexpTokenizer(r'\\w+')\n",
    "tokens=tokenizer.tokenize(content)\n",
    "counts=Counter(tokens)\n",
    "counts={k: v for k, v in counts.items() if v>5}\n",
    "counts"
   ]
  },
  {
   "cell_type": "markdown",
   "metadata": {},
   "source": [
    "Gördüğünüz üzere vücut sağlığımıza iyi gelecek besinleri bu listede görebiliyoruz :) Hadi gelin reçetimizi elle bir liste olarak hazırlayalım ve dosyayı dizine kaydedelim."
   ]
  },
  {
   "cell_type": "code",
   "execution_count": 76,
   "metadata": {},
   "outputs": [],
   "source": [
    "with open(\"karatay_recete.txt\",\"w\",encoding=\"utf-8\") as dosya:\n",
    "   dosya.writelines([\"Gripten korunmak için gerekli besinler:\\n\",\"Turp\\n\",\"Zeytin\\n\",\"Fıstık\\n\",\"Zeytinyağı\"])  "
   ]
  },
  {
   "cell_type": "markdown",
   "metadata": {},
   "source": [
    "![](gorsel5.png)"
   ]
  },
  {
   "cell_type": "markdown",
   "metadata": {},
   "source": [
    "# Python ile dosya işleme konusunun sonuna geldik, umarım öğretici olmuştur. Dinlediğiniz için teşekkürler, sağlıklı günler !"
   ]
  }
 ],
 "metadata": {
  "kernelspec": {
   "display_name": "Python 3",
   "language": "python",
   "name": "python3"
  },
  "language_info": {
   "codemirror_mode": {
    "name": "ipython",
    "version": 3
   },
   "file_extension": ".py",
   "mimetype": "text/x-python",
   "name": "python",
   "nbconvert_exporter": "python",
   "pygments_lexer": "ipython3",
   "version": "3.7.4"
  }
 },
 "nbformat": 4,
 "nbformat_minor": 2
}
